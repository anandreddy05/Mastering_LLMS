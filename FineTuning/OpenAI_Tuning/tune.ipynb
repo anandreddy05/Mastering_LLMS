{
 "cells": [
  {
   "cell_type": "code",
   "execution_count": null,
   "id": "d4f5aa9d",
   "metadata": {},
   "outputs": [],
   "source": [
    "%pwd\n",
    "%cd ..\n",
    "%pwd"
   ]
  },
  {
   "cell_type": "code",
   "execution_count": null,
   "id": "b0e20141",
   "metadata": {},
   "outputs": [],
   "source": [
    "import os\n",
    "import math\n",
    "import json\n",
    "import random\n",
    "from dotenv import load_dotenv\n",
    "from huggingface_hub import login\n",
    "import matplotlib.pyplot as plt\n",
    "import numpy as np\n",
    "import pickle\n",
    "from collections import Counter\n",
    "from items import Item\n",
    "from collections import Counter\n",
    "from openai import OpenAI"
   ]
  },
  {
   "cell_type": "code",
   "execution_count": null,
   "id": "d058672f",
   "metadata": {},
   "outputs": [],
   "source": [
    "from testing import Tester"
   ]
  },
  {
   "cell_type": "code",
   "execution_count": null,
   "id": "d95e8ae5",
   "metadata": {},
   "outputs": [],
   "source": [
    "load_dotenv()\n",
    "os.environ[\"OPENAI_API\"] = os.getenv('OPENAI_API')"
   ]
  },
  {
   "cell_type": "code",
   "execution_count": null,
   "id": "610e7721",
   "metadata": {},
   "outputs": [],
   "source": [
    "openai = OpenAI(api_key=os.environ[\"OPENAI_API\"])"
   ]
  },
  {
   "cell_type": "code",
   "execution_count": null,
   "id": "cf30f677",
   "metadata": {},
   "outputs": [],
   "source": [
    "%matplotlib inline"
   ]
  },
  {
   "cell_type": "code",
   "execution_count": null,
   "id": "1ce40b40",
   "metadata": {},
   "outputs": [],
   "source": [
    "with open('train.pkl','rb') as file:\n",
    "    train = pickle.load(file)\n",
    "with open('test.pkl','rb') as file:\n",
    "    test = pickle.load(file)"
   ]
  },
  {
   "cell_type": "code",
   "execution_count": null,
   "id": "8d1ff1d0",
   "metadata": {},
   "outputs": [],
   "source": [
    "fine_tune_train = train[:500]\n",
    "fine_tune_validation  = train[500:550]"
   ]
  },
  {
   "cell_type": "code",
   "execution_count": null,
   "id": "c392e084",
   "metadata": {},
   "outputs": [],
   "source": [
    "def messages_for(item):\n",
    "    system_prompt = \"You estimate prices of items. Reply only with the price, no explination\"\n",
    "    user_prompt = item.test_prompt().replace(\" to the nearest dollar\",\"\").replace('\\n\\nPricr is $',\"\")\n",
    "    return [\n",
    "        {\"role\":\"system\",\"content\":system_prompt},\n",
    "        {\"role\":\"user\",\"content\":user_prompt},\n",
    "        {\"role\":\"assistant\",\"content\":f\"Price is ${item.price:.2f}\"}\n",
    "    ]"
   ]
  },
  {
   "cell_type": "code",
   "execution_count": null,
   "id": "4efdf01b",
   "metadata": {},
   "outputs": [],
   "source": [
    "# messages_for(train[0])"
   ]
  },
  {
   "cell_type": "code",
   "execution_count": null,
   "id": "571b3179",
   "metadata": {},
   "outputs": [],
   "source": [
    "def make_jsonl(items):\n",
    "    result = \"\"\n",
    "    for item in items:\n",
    "        messages = messages_for(item)\n",
    "        messages_str = json.dumps(messages)\n",
    "        result += '{\"messages\": '+messages_str +'}\\n'\n",
    "    return result.strip()"
   ]
  },
  {
   "cell_type": "code",
   "execution_count": null,
   "id": "d09ad680",
   "metadata": {},
   "outputs": [],
   "source": [
    "# print(make_jsonl(train[:4]))"
   ]
  },
  {
   "cell_type": "code",
   "execution_count": null,
   "id": "ef1b5f85",
   "metadata": {},
   "outputs": [],
   "source": [
    "def write_jsonl(items,filename):\n",
    "    with open(filename,\"w\") as f:\n",
    "        jsonl = make_jsonl(items)\n",
    "        # print(jsonl)\n",
    "        f.write(jsonl)"
   ]
  },
  {
   "cell_type": "code",
   "execution_count": null,
   "id": "0ec446bf",
   "metadata": {},
   "outputs": [],
   "source": [
    "write_jsonl(fine_tune_train,\"fine_tune_train.jsonl\")"
   ]
  },
  {
   "cell_type": "code",
   "execution_count": null,
   "id": "4ade8b26",
   "metadata": {},
   "outputs": [],
   "source": [
    "write_jsonl(fine_tune_validation,\"fine_tune_validation.jsonl\")"
   ]
  },
  {
   "cell_type": "code",
   "execution_count": null,
   "id": "61ba76d8",
   "metadata": {},
   "outputs": [],
   "source": [
    "with open(\"fine_tune_train.jsonl\",'rb') as f:\n",
    "    trian_file = openai.files.create(file=f,purpose='fine-tune')"
   ]
  },
  {
   "cell_type": "code",
   "execution_count": null,
   "id": "b9f6861a",
   "metadata": {},
   "outputs": [],
   "source": [
    "trian_file"
   ]
  },
  {
   "cell_type": "code",
   "execution_count": null,
   "id": "45dfa908",
   "metadata": {},
   "outputs": [],
   "source": [
    "with open(\"fine_tune_validation.jsonl\",'rb') as f:\n",
    "    validation_file = openai.files.create(file=f,purpose='fine-tune')"
   ]
  },
  {
   "cell_type": "code",
   "execution_count": null,
   "id": "2b351a12",
   "metadata": {},
   "outputs": [],
   "source": [
    "validation_file"
   ]
  },
  {
   "cell_type": "code",
   "execution_count": null,
   "id": "445ba066",
   "metadata": {},
   "outputs": [],
   "source": [
    "wandb_integration = {\"type\":\"wandb\",\"wandb\":{\"project\":\"gpt-pricer\"}}"
   ]
  },
  {
   "cell_type": "code",
   "execution_count": null,
   "id": "876690d9",
   "metadata": {},
   "outputs": [],
   "source": [
    "openai.fine_tuning.jobs.create(\n",
    "    training_file=trian_file.id,\n",
    "    validation_file=validation_file.id,\n",
    "    model = \"gpt-4o-mini-2024-07-18\",\n",
    "    seed=42,\n",
    "    hyperparameters={\"n_epochs\":1},\n",
    "    integrations=[wandb_integration],\n",
    "    suffix=\"pricer\"\n",
    ")"
   ]
  },
  {
   "cell_type": "code",
   "execution_count": null,
   "id": "4316a15d",
   "metadata": {},
   "outputs": [],
   "source": [
    "openai.fine_tuning.jobs.list(limit=1)"
   ]
  },
  {
   "cell_type": "code",
   "execution_count": null,
   "id": "e5d2cf45",
   "metadata": {},
   "outputs": [],
   "source": [
    "job_id = openai.fine_tuning.jobs.list(limit=1).data[0].id\n",
    "job_id"
   ]
  },
  {
   "cell_type": "code",
   "execution_count": null,
   "id": "5dc3347f",
   "metadata": {},
   "outputs": [],
   "source": [
    "openai.fine_tuning.jobs.retrieve(job_id)"
   ]
  },
  {
   "cell_type": "code",
   "execution_count": null,
   "id": "127829f5",
   "metadata": {},
   "outputs": [],
   "source": [
    "openai.fine_tuning.jobs.list_events(fine_tuning_job_id=job_id,limit=10).data"
   ]
  },
  {
   "cell_type": "code",
   "execution_count": null,
   "id": "50f31561",
   "metadata": {},
   "outputs": [],
   "source": [
    "fine_tuned_model = openai.fine_tuning.jobs.retrieve(job_id).fine_tuned_model"
   ]
  },
  {
   "cell_type": "code",
   "execution_count": null,
   "id": "bd448700",
   "metadata": {},
   "outputs": [],
   "source": [
    "def messages_for(item):\n",
    "    system_prompt = \"You estimate prices of items. Reply only with the price, no explination needed\"\n",
    "    user_prompt = item.test_prompt().replace(\" to the nearest dollar\",\"\").replace(\"\\n\\nPrice is $\",\"\")\n",
    "    return [\n",
    "        {\"role\":\"system\",\"content\":system_prompt},\n",
    "        {\"role\":\"user\",\"content\":user_prompt},\n",
    "        {\"role\":\"assistant\",\"content\":\"Price is $\"}\n",
    "    ]"
   ]
  },
  {
   "cell_type": "code",
   "execution_count": null,
   "id": "ca197be2",
   "metadata": {},
   "outputs": [],
   "source": [
    "messages_for(test[0])"
   ]
  },
  {
   "cell_type": "code",
   "execution_count": null,
   "id": "4d9a7d8c",
   "metadata": {},
   "outputs": [],
   "source": [
    "import re\n",
    "def get_price(s):\n",
    "    s = s.replace('$','').replace(',','')\n",
    "    match = re.search(r\"[-+]?\\d*\\.\\d+|\\d+\", s)\n",
    "    return float(match.group()) if match else 0"
   ]
  },
  {
   "cell_type": "code",
   "execution_count": null,
   "id": "799227c7",
   "metadata": {},
   "outputs": [],
   "source": [
    "get_price(\"The price is 99$\")"
   ]
  },
  {
   "cell_type": "code",
   "execution_count": null,
   "id": "8273c50a",
   "metadata": {},
   "outputs": [],
   "source": [
    "def gpt_fine_tuned(item):\n",
    "    response = openai.chat.completions.create(\n",
    "        model=fine_tuned_model,\n",
    "        messages=messages_for(item),\n",
    "        seed=42,\n",
    "        max_tokens = 7\n",
    "    )\n",
    "    reply = response.choices[0].message.content\n",
    "    return get_price(reply)"
   ]
  },
  {
   "cell_type": "code",
   "execution_count": null,
   "id": "29da69e1",
   "metadata": {},
   "outputs": [],
   "source": [
    "print(test[0].price)\n",
    "print(gpt_fine_tuned(test[0]))"
   ]
  },
  {
   "cell_type": "code",
   "execution_count": null,
   "id": "67d0af35",
   "metadata": {},
   "outputs": [],
   "source": [
    "Tester.test(gpt_fine_tuned,test)"
   ]
  }
 ],
 "metadata": {
  "kernelspec": {
   "display_name": "Python 3",
   "language": "python",
   "name": "python3"
  },
  "language_info": {
   "codemirror_mode": {
    "name": "ipython",
    "version": 3
   },
   "file_extension": ".py",
   "mimetype": "text/x-python",
   "name": "python",
   "nbconvert_exporter": "python",
   "pygments_lexer": "ipython3",
   "version": "3.10.0"
  }
 },
 "nbformat": 4,
 "nbformat_minor": 5
}
