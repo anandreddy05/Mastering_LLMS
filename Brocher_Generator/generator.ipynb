{
 "cells": [
  {
   "cell_type": "code",
   "execution_count": 3,
   "id": "4c5afb56",
   "metadata": {},
   "outputs": [],
   "source": [
    "import os\n",
    "import requests\n",
    "import json\n",
    "from typing import List\n",
    "from dotenv import load_dotenv\n",
    "from bs4 import BeautifulSoup\n",
    "from IPython.display import Markdown,display,update_display\n",
    "from openai import OpenAI"
   ]
  },
  {
   "cell_type": "code",
   "execution_count": 20,
   "id": "7fd86b8e",
   "metadata": {},
   "outputs": [
    {
     "name": "stdout",
     "output_type": "stream",
     "text": [
      "API KEY IS PERFECT\n"
     ]
    }
   ],
   "source": [
    "load_dotenv()\n",
    "OPENAI_API = os.getenv('OPENAI_API')\n",
    "\n",
    "if OPENAI_API and OPENAI_API[:8] == \"sk-proj-\":\n",
    "    print(\"API KEY IS PERFECT\")\n",
    "else:\n",
    "    print(\"Something went wrong\")\n",
    "\n",
    "openai = OpenAI(api_key=OPENAI_API)\n",
    "\n",
    "MODEL = \"gpt-4o-mini\""
   ]
  },
  {
   "cell_type": "code",
   "execution_count": 70,
   "id": "0a27205a",
   "metadata": {},
   "outputs": [],
   "source": [
    "# A class to represent a Webpage\n",
    "\n",
    "# Some websites need you to use proper headers when fetching them:\n",
    "headers = {\n",
    " \"User-Agent\": \"Mozilla/5.0 (Windows NT 10.0; Win64; x64) AppleWebKit/537.36 (KHTML, like Gecko) Chrome/117.0.0.0 Safari/537.36\"\n",
    "}\n",
    "\n",
    "class Website:\n",
    "    \"\"\"\n",
    "    A utility class to represent a Website that we have scraped, now with links\n",
    "    \"\"\"\n",
    "\n",
    "    def __init__(self, url):\n",
    "        self.url = url\n",
    "        response = requests.get(url, headers=headers)\n",
    "        self.body = response.content\n",
    "        soup = BeautifulSoup(self.body, 'html.parser')\n",
    "        self.title = soup.title.string if soup.title else \"No title found\"\n",
    "        if soup.body:\n",
    "            for irrelevant in soup.body([\"script\", \"style\", \"img\", \"input\"]):\n",
    "                irrelevant.decompose()\n",
    "            self.text = soup.body.get_text(separator=\"\\n\", strip=True)\n",
    "        else:\n",
    "            self.text = \"\"\n",
    "        links = [link.get('href') for link in soup.find_all('a')]\n",
    "        self.links = [link for link in links if link]\n",
    "\n",
    "    def get_contents(self):\n",
    "        return f\"Webpage Title:\\n{self.title}\\nWebpage Contents:\\n{self.text}\\n\\n\""
   ]
  },
  {
   "cell_type": "code",
   "execution_count": 89,
   "id": "eb4845a0",
   "metadata": {},
   "outputs": [],
   "source": [
    "op = Website('https://anthropic.com/')"
   ]
  },
  {
   "cell_type": "code",
   "execution_count": 115,
   "id": "1732442d",
   "metadata": {},
   "outputs": [],
   "source": [
    "# print(op.get_contents())\n",
    "# print(\"=\"*20)\n",
    "# print(op.links)"
   ]
  },
  {
   "cell_type": "code",
   "execution_count": 56,
   "id": "dfdc115a",
   "metadata": {},
   "outputs": [],
   "source": [
    "system_prompt = \"\"\"\n",
    "You are provided with a list of links found on a webpage.\\\n",
    "You are able to decide which of the links would be the most relevant to include\n",
    "in a brocher about a company if it is a IT company include things like careers,about,etc.. and \n",
    "if it is some shopping page add links like about, discounts, etc...\\\n",
    "\n",
    "You should respond in a JSON as in this example. \\\n",
    "Example:\n",
    "{\n",
    "    \"links\": [\n",
    "        {\"type: \"about page,\"url\":\"https://full_url/about\"}\n",
    "        {\"type: \"careers page\",\"url\":\"https://full_url/careers\"}\n",
    "    ]\n",
    "}\n",
    "\"\"\""
   ]
  },
  {
   "cell_type": "code",
   "execution_count": 57,
   "id": "85c63392",
   "metadata": {},
   "outputs": [
    {
     "name": "stdout",
     "output_type": "stream",
     "text": [
      "\n",
      "You are provided with a list of links found on a webpage.You are able to decide which of the links would be the most relevant to include\n",
      "in a brocher about a company if it is a IT company include things like careers,about,etc.. and \n",
      "if it is some shopping page add links like about, discounts, etc...\n",
      "You should respond in a JSON as in this example. Example:\n",
      "{\n",
      "    \"links\": [\n",
      "        {\"type: \"about page,\"url\":\"https://full_url/about\"}\n",
      "        {\"type: \"careers page\",\"url\":\"https://full_url/careers\"}\n",
      "    ]\n",
      "}\n",
      "\n"
     ]
    }
   ],
   "source": [
    "print(system_prompt)"
   ]
  },
  {
   "cell_type": "code",
   "execution_count": 58,
   "id": "1d836ad8",
   "metadata": {},
   "outputs": [],
   "source": [
    "def user_prompt(website):\n",
    "    user_prompt = f\"\"\"\n",
    "    Here is the list of links of the company website of {website.url}\n",
    "    Please decide which of these are relevant web links for a brocher about the company, respond with the full https URL.\n",
    "    Do not include terms of service,privacy and emails. \\\n",
    "    \\n\n",
    "    {website.links}\n",
    "    \"\"\"\n",
    "    return user_prompt"
   ]
  },
  {
   "cell_type": "code",
   "execution_count": 116,
   "id": "561b15a0",
   "metadata": {},
   "outputs": [
    {
     "name": "stdout",
     "output_type": "stream",
     "text": [
      "\n",
      "    Here is the list of links of the company website of https://anthropic.com/\n",
      "    Please decide which of these are relevant web links for a brocher about the company, respond with the full https URL.\n",
      "    Do not include terms of service,privacy and emails.     \n",
      "\n",
      "    ['#main', '#footer', 'https://www.anthropic.com/', 'https://www.anthropic.com/claude', 'https://www.anthropic.com/team', 'https://www.anthropic.com/enterprise', 'https://www.anthropic.com/education', 'https://www.anthropic.com/pricing', 'https://claude.ai/download', 'https://claude.ai/', 'https://www.anthropic.com/news/claude-character', 'https://www.anthropic.com/api', 'https://docs.anthropic.com/', 'https://www.anthropic.com/pricing#api', 'https://console.anthropic.com/', 'https://docs.anthropic.com/en/docs/welcome', 'https://www.anthropic.com/solutions/agents', 'https://www.anthropic.com/solutions/coding', 'https://www.anthropic.com/solutions/customer-support', 'https://www.anthropic.com/customers', 'https://www.anthropic.com/research', 'https://www.anthropic.com/economic-index', 'https://www.anthropic.com/claude/opus', 'https://www.anthropic.com/claude/sonnet', 'https://www.anthropic.com/claude/haiku', 'https://www.anthropic.com/news/visible-extended-thinking', 'https://www.anthropic.com/transparency', 'https://www.anthropic.com/news/announcing-our-updated-responsible-scaling-policy', 'https://www.anthropic.com/claude/sonnet', 'https://www.anthropic.com/news/anthropic-achieves-iso-42001-certification-for-responsible-ai', 'https://www.anthropic.com/customers', 'https://www.anthropic.com/engineering', 'https://www.anthropic.com/learn', 'https://www.anthropic.com/company', 'https://www.anthropic.com/careers', 'https://www.anthropic.com/events', 'https://www.anthropic.com/engineering/building-effective-agents', 'https://www.anthropic.com/news', '#', 'https://claude.ai/login', 'https://claude.ai/download', 'https://www.anthropic.com/', 'https://www.anthropic.com/claude', 'https://www.anthropic.com/team', 'https://www.anthropic.com/enterprise', 'https://www.anthropic.com/education', 'https://www.anthropic.com/pricing', 'https://claude.ai/download', 'https://claude.ai/', 'https://www.anthropic.com/news/claude-character', 'https://www.anthropic.com/api', 'https://docs.anthropic.com/', 'https://www.anthropic.com/pricing#api', 'https://console.anthropic.com/', 'https://docs.anthropic.com/en/docs/welcome', 'https://www.anthropic.com/solutions/agents', 'https://www.anthropic.com/solutions/coding', 'https://www.anthropic.com/solutions/customer-support', 'https://www.anthropic.com/customers', 'https://www.anthropic.com/research', 'https://www.anthropic.com/economic-index', 'https://www.anthropic.com/claude/opus', 'https://www.anthropic.com/claude/sonnet', 'https://www.anthropic.com/claude/haiku', 'https://www.anthropic.com/news/visible-extended-thinking', 'https://www.anthropic.com/transparency', 'https://www.anthropic.com/news/announcing-our-updated-responsible-scaling-policy', 'https://www.anthropic.com/claude/sonnet', 'https://www.anthropic.com/news/anthropic-achieves-iso-42001-certification-for-responsible-ai', 'https://www.anthropic.com/customers', 'https://www.anthropic.com/engineering', 'https://www.anthropic.com/learn', 'https://www.anthropic.com/company', 'https://www.anthropic.com/careers', 'https://www.anthropic.com/events', 'https://www.anthropic.com/engineering/building-effective-agents', 'https://www.anthropic.com/news', '#', 'https://claude.ai/login', 'https://claude.ai/download', 'https://www.anthropic.com/research#entry:8@1:url', 'https://www.anthropic.com/claude', 'https://claude.ai/', 'https://www.anthropic.com/api', 'https://anthropic.com/news/claude-4', 'https://www.anthropic.com/claude/opus', 'https://www.anthropic.com/claude/sonnet', 'https://www.anthropic.com/news/core-views-on-ai-safety', 'https://www.anthropic.com/rsp-updates', 'https://www.anthropic.com/learn', 'https://www.anthropic.com/research/tracing-thoughts-language-model', 'https://www.anthropic.com/economic-index', 'https://www.anthropic.com/news/claude-3-7-sonnet', 'https://www.anthropic.com/research/visible-extended-thinking', 'https://www.anthropic.com/research/alignment-faking', 'https://www.anthropic.com/news/model-context-protocol', 'https://www.anthropic.com/jobs', 'https://www.anthropic.com/jobs', 'https://www.anthropic.com/contact-sales', 'https://www.anthropic.com/claude', 'https://www.anthropic.com/claude-code', 'https://www.anthropic.com/team', 'https://www.anthropic.com/enterprise', 'https://www.anthropic.com/education', 'https://claude.ai/download', 'https://www.anthropic.com/pricing', 'http://claude.ai/login', 'https://www.anthropic.com/api', 'https://docs.anthropic.com/', 'https://www.anthropic.com/amazon-bedrock', 'https://www.anthropic.com/google-cloud-vertex-ai', 'https://www.anthropic.com/pricing#anthropic-api', 'https://console.anthropic.com/', 'https://www.anthropic.com/research', 'https://www.anthropic.com/economic-index', 'https://www.anthropic.com/claude/opus', 'https://www.anthropic.com/claude/sonnet', 'https://www.anthropic.com/claude/haiku', 'https://www.anthropic.com/transparency', 'https://www.anthropic.com/responsible-scaling-policy', 'https://trust.anthropic.com/', 'https://www.anthropic.com/solutions/coding', 'https://www.anthropic.com/solutions/agents', 'https://www.anthropic.com/solutions/customer-support', 'https://www.anthropic.com/learn', 'https://www.anthropic.com/customers', 'https://www.anthropic.com/engineering', 'https://www.anthropic.com/partners/mcp', 'https://www.anthropic.com/company', 'https://www.anthropic.com/referral', 'https://www.anthropic.com/careers', 'https://www.anthropic.com/events', 'https://www.anthropic.com/news', 'https://www.anthropic.com/startups', 'https://status.anthropic.com/', 'https://www.anthropic.com/supported-countries', 'https://support.anthropic.com/', 'https://www.anthropic.com/legal/cookies', 'https://www.anthropic.com/legal/privacy', 'https://www.anthropic.com/responsible-disclosure-policy', 'https://www.anthropic.com/legal/consumer-terms', 'https://www.anthropic.com/legal/commercial-terms', 'https://www.anthropic.com/legal/aup', 'https://www.youtube.com/@anthropic-ai', 'https://www.linkedin.com/company/anthropicresearch', 'https://x.com/AnthropicAI']\n",
      "    \n"
     ]
    }
   ],
   "source": [
    "print(user_prompt(op))"
   ]
  },
  {
   "cell_type": "code",
   "execution_count": 86,
   "id": "07df44dd",
   "metadata": {},
   "outputs": [],
   "source": [
    "def get_relevant_links(url):\n",
    "    website = Website(url)\n",
    "    response = openai.chat.completions.create(\n",
    "        model=MODEL,\n",
    "        messages=[\n",
    "            {\"role\":\"system\",\"content\":system_prompt},\n",
    "            {\"role\":\"user\",\"content\":user_prompt(website)}\n",
    "        ],\n",
    "        response_format={\"type\":\"json_object\"}\n",
    "    )\n",
    "    result = response.choices[0].message.content\n",
    "    return json.loads(result)"
   ]
  },
  {
   "cell_type": "code",
   "execution_count": 88,
   "id": "677b943b",
   "metadata": {},
   "outputs": [
    {
     "data": {
      "text/plain": [
       "{'links': [{'type': 'about page', 'url': 'https://www.anthropic.com/company'},\n",
       "  {'type': 'careers page', 'url': 'https://www.anthropic.com/careers'},\n",
       "  {'type': 'team page', 'url': 'https://www.anthropic.com/team'},\n",
       "  {'type': 'news page', 'url': 'https://www.anthropic.com/news'},\n",
       "  {'type': 'research page', 'url': 'https://www.anthropic.com/research'},\n",
       "  {'type': 'events page', 'url': 'https://www.anthropic.com/events'},\n",
       "  {'type': 'learn page', 'url': 'https://www.anthropic.com/learn'},\n",
       "  {'type': 'customers page', 'url': 'https://www.anthropic.com/customers'},\n",
       "  {'type': 'enterprise solutions page',\n",
       "   'url': 'https://www.anthropic.com/enterprise'},\n",
       "  {'type': 'education page', 'url': 'https://www.anthropic.com/education'}]}"
      ]
     },
     "execution_count": 88,
     "metadata": {},
     "output_type": "execute_result"
    }
   ],
   "source": [
    "get_relevant_links(\"https://anthropic.com/\")"
   ]
  },
  {
   "cell_type": "code",
   "execution_count": null,
   "id": "f178efa5",
   "metadata": {},
   "outputs": [],
   "source": [
    "# Website('https://www.anthropic.com/education').get_contents()"
   ]
  },
  {
   "cell_type": "code",
   "execution_count": 103,
   "id": "d339d810",
   "metadata": {},
   "outputs": [],
   "source": [
    "def get_all_details(url):\n",
    "    result = \"Landing Page:\\n\"\n",
    "    result += Website(url).get_contents()\n",
    "    links = get_relevant_links(url)\n",
    "    print(\"Found links:\",links)\n",
    "    for link in links['links']:\n",
    "        result += f\"\\n\\n{link['type']}\\n\"\n",
    "        result += Website(link['url']).get_contents()\n",
    "    return result"
   ]
  },
  {
   "cell_type": "code",
   "execution_count": 114,
   "id": "b4f2d61f",
   "metadata": {},
   "outputs": [],
   "source": [
    "# get_all_details(\"https://anthropic.com/\")"
   ]
  },
  {
   "cell_type": "code",
   "execution_count": 105,
   "id": "5ebd9106",
   "metadata": {},
   "outputs": [],
   "source": [
    "system_prompt2 = \"\"\"\n",
    "You are an assistant that analyzes the contents of several relevant pages of a company website.\\\n",
    "Create a short brochure about the company for custumors, investors and recruitors. Respond in Markdown.\\\n",
    "Include details of the company culture, customers and careers/jobs if you have the information. \n",
    "\"\"\""
   ]
  },
  {
   "cell_type": "code",
   "execution_count": 106,
   "id": "d52bb271",
   "metadata": {},
   "outputs": [],
   "source": [
    "def get_brochure_user_prompt(company_name,url):\n",
    "    user_prompt = f\"You are looking at the company called {company_name}\"\n",
    "    user_prompt += f\"Here are the contents of its landing page and other relevant pages; use this information to build a short brochure of the cmopany\"\n",
    "    user_prompt += get_all_details(url)\n",
    "    user_prompt = user_prompt[:10_000]\n",
    "    return user_prompt"
   ]
  },
  {
   "cell_type": "code",
   "execution_count": 117,
   "id": "924d481a",
   "metadata": {},
   "outputs": [],
   "source": [
    "# get_brochure_user_prompt(\"Anthropic\",\"https://anthropic.com\")"
   ]
  },
  {
   "cell_type": "code",
   "execution_count": null,
   "id": "5e8735ef",
   "metadata": {},
   "outputs": [],
   "source": [
    "def create_brochure(company_name,url):\n",
    "    response = openai.chat.completions.create(\n",
    "        model=MODEL,\n",
    "        messages=[\n",
    "            {\"role\":\"system\",\"content\":system_prompt2},\n",
    "            {\"role\":\"user\",\"content\":get_brochure_user_prompt(company_name,url)}\n",
    "        ],\n",
    "    )\n",
    "    result = response.choices[0].message.content\n",
    "    display(Markdown(result))"
   ]
  },
  {
   "cell_type": "code",
   "execution_count": 113,
   "id": "20ae1aa5",
   "metadata": {},
   "outputs": [
    {
     "name": "stdout",
     "output_type": "stream",
     "text": [
      "Found links: {'links': [{'type': 'about page', 'url': 'https://www.anthropic.com/company'}, {'type': 'careers page', 'url': 'https://www.anthropic.com/careers'}, {'type': 'team page', 'url': 'https://www.anthropic.com/team'}, {'type': 'news page', 'url': 'https://www.anthropic.com/news'}, {'type': 'customers page', 'url': 'https://www.anthropic.com/customers'}, {'type': 'events page', 'url': 'https://www.anthropic.com/events'}, {'type': 'solutions page', 'url': 'https://www.anthropic.com/solutions'}, {'type': 'research page', 'url': 'https://www.anthropic.com/research'}, {'type': 'learn page', 'url': 'https://www.anthropic.com/learn'}, {'type': 'contact sales page', 'url': 'https://www.anthropic.com/contact-sales'}, {'type': 'transparency page', 'url': 'https://www.anthropic.com/transparency'}]}\n"
     ]
    },
    {
     "data": {
      "text/markdown": [
       "# Anthropic: Empowering the Future with Safe AI\n",
       "\n",
       "Welcome to **Anthropic**, where we prioritize safety and reliability in AI development. Our commitment to fostering responsible AI systems drives everything we do, ensuring our technology creates positive long-term impacts on society.\n",
       "\n",
       "## Company Overview\n",
       "\n",
       "Anthropic is an AI safety and research company dedicated to building trustworthy AI systems. We focus on creating reliable, interpretable, and steerable technologies that serve humanity’s needs. Through innovative research and our state-of-the-art models, including **Claude Opus 4** and **Claude Sonnet 4**, we redefine what AI can be.\n",
       "\n",
       "### Our Purpose\n",
       "At Anthropic, we understand the vast and transformative impact of AI on the world. Our mission is to explore the opportunities and risks posed by AI, designing systems that empower users and enhance operations. \n",
       "\n",
       "## Company Culture\n",
       "\n",
       "### Collaborative Environment\n",
       "Our interdisciplinary team is comprised of researchers, engineers, policy experts, and operational leaders from diverse backgrounds, including NASA, startups, and more. This richness of experience fosters a culture of cooperation and innovation, as we work together on evolving AI frontiers.\n",
       "\n",
       "### Commitment to Safety\n",
       "Safety is not just an objective—it's a cornerstone of our philosophy. We treat AI safety as a systematic science, integrating findings from our research to continuously improve our products while advocating for broader industry safety practices.\n",
       "\n",
       "### Employee Development\n",
       "At Anthropic, we value learning and growth, offering access to the **Anthropic Academy** where employees and partners can enhance their skills and knowledge related to our AI systems.\n",
       "\n",
       "## Who We Serve\n",
       "\n",
       "Anthropic's AI solutions cater to a myriad of sectors, including:\n",
       "\n",
       "- **Businesses:** Enhancing productivity through AI-driven solutions.\n",
       "- **Nonprofits:** Developing tools that can support social causes.\n",
       "- **Education:** Offering learning platforms that empower users to build with **Claude**.\n",
       "\n",
       "### Customer Stories\n",
       "We take pride in our collaborative success. Our customers' testimonials emphasize the transformative effects of our tools on their businesses and operations, showcasing real-world applications of AI.\n",
       "\n",
       "## Join Us\n",
       "\n",
       "If you are excited about shaping the future of AI safety and innovation, Anthropic offers numerous **career opportunities**. We’re constantly looking for passionate individuals ready to make a difference in the AI landscape.\n",
       "\n",
       "### Open Roles Include:\n",
       "- AI Researcher\n",
       "- Software Engineer\n",
       "- Policy Analyst\n",
       "- Operations Specialist\n",
       "\n",
       "## Get in Touch\n",
       "\n",
       "If you're a customer interested in implementing AI solutions, an investor looking to be part of a pioneering company, or a recruiter eager to discover potential talent, we invite you to explore our offerings.\n",
       "\n",
       "- **Website:** [Anthropic.ai](https://www.anthropic.ai)\n",
       "- **Contact Us:** For inquiries or to learn more about us and our products, please reach out on our website.\n",
       "\n",
       "Join us in building a future where AI systems are not only intelligent but also safe and reliable. Welcome to Anthropic!"
      ],
      "text/plain": [
       "<IPython.core.display.Markdown object>"
      ]
     },
     "metadata": {},
     "output_type": "display_data"
    }
   ],
   "source": [
    "create_brochure(\"Anthropic\",\"https://anthropic.com\")"
   ]
  }
 ],
 "metadata": {
  "kernelspec": {
   "display_name": "Python 3",
   "language": "python",
   "name": "python3"
  },
  "language_info": {
   "codemirror_mode": {
    "name": "ipython",
    "version": 3
   },
   "file_extension": ".py",
   "mimetype": "text/x-python",
   "name": "python",
   "nbconvert_exporter": "python",
   "pygments_lexer": "ipython3",
   "version": "3.10.0"
  }
 },
 "nbformat": 4,
 "nbformat_minor": 5
}
