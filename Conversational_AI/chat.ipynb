{
 "cells": [
  {
   "cell_type": "code",
   "execution_count": null,
   "id": "cef2ccb6",
   "metadata": {},
   "outputs": [],
   "source": [
    "import os\n",
    "from dotenv import load_dotenv\n",
    "from openai import OpenAI\n",
    "import gradio as gr"
   ]
  },
  {
   "cell_type": "code",
   "execution_count": null,
   "id": "46020350",
   "metadata": {},
   "outputs": [],
   "source": [
    "load_dotenv()\n",
    "api_key = os.getenv(\"OPENAI_API\")\n",
    "if api_key and api_key[:8] == \"sk-proj-\":\n",
    "    print(\"API KEY IS SET\")\n",
    "else:\n",
    "    print(\"Something went wrong\")"
   ]
  },
  {
   "cell_type": "code",
   "execution_count": null,
   "id": "79c5f5f3",
   "metadata": {},
   "outputs": [],
   "source": [
    "openai = OpenAI(api_key=api_key)\n",
    "MODEL = \"gpt-4o-mini\""
   ]
  },
  {
   "cell_type": "code",
   "execution_count": null,
   "id": "c3eb42d7",
   "metadata": {},
   "outputs": [],
   "source": [
    "system_prompt = \"\"\"\n",
    "You are a helpful AI Assistant, please answer to the users query correctly and polietly.\n",
    "If you do not have the information Say that I have no information regarding the query.\n",
    "\"\"\""
   ]
  },
  {
   "cell_type": "code",
   "execution_count": null,
   "id": "b0fabba1",
   "metadata": {},
   "outputs": [],
   "source": [
    "def chat(message,history):\n",
    "    messages = [\n",
    "        {\"role\":\"system\",\"content\":system_prompt},\n",
    "    ]\n",
    "    for user_message,assistant_message in history:\n",
    "        messages.append({\"role\":\"user\",\"content\":user_message})\n",
    "        messages.append({\"role\":\"assistant\",\"content\":assistant_message})\n",
    "    messages.append({\"role\":\"user\",\"content\":message})\n",
    "    print(\"History\\n\",history)\n",
    "    print(\"Message\\n\",messages)\n",
    "    stream = openai.chat.completions.create(\n",
    "        model = MODEL,\n",
    "        messages=messages,  \n",
    "        stream=True \n",
    "    )\n",
    "    response = \"\"\n",
    "    for chunk in stream:\n",
    "        response += chunk.choices[0].delta.content or ''\n",
    "        yield response"
   ]
  },
  {
   "cell_type": "code",
   "execution_count": null,
   "id": "23dd416e",
   "metadata": {},
   "outputs": [
    {
     "name": "stdout",
     "output_type": "stream",
     "text": [
      "History\n",
      " []\n",
      "Message\n",
      " [{'role': 'system', 'content': '\\nYou are a helpful AI Assistant, please answer to the users query correctly and polietly.\\nIf you do not have the information Say that I have no information regarding the query.\\n'}, {'role': 'user', 'content': 'What is Machine Learning?'}]\n",
      "History\n",
      " [['What is Machine Learning?', 'Machine Learning is a subset of artificial intelligence (AI) that enables systems to automatically learn and improve from experience without being explicitly programmed. It involves the development of algorithms that can analyze and interpret complex data, identify patterns, and make decisions based on that data. \\n\\nIn machine learning, models are trained on large datasets, allowing them to recognize trends and make predictions or classifications. Common applications of machine learning include image and speech recognition, natural language processing, recommendation systems, and predictive analytics. Overall, machine learning allows computers to adapt and provide insights based on data inputs, thus enhancing their functionality and efficiency.']]\n",
      "Message\n",
      " [{'role': 'system', 'content': '\\nYou are a helpful AI Assistant, please answer to the users query correctly and polietly.\\nIf you do not have the information Say that I have no information regarding the query.\\n'}, {'role': 'user', 'content': 'What is Machine Learning?'}, {'role': 'assistant', 'content': 'Machine Learning is a subset of artificial intelligence (AI) that enables systems to automatically learn and improve from experience without being explicitly programmed. It involves the development of algorithms that can analyze and interpret complex data, identify patterns, and make decisions based on that data. \\n\\nIn machine learning, models are trained on large datasets, allowing them to recognize trends and make predictions or classifications. Common applications of machine learning include image and speech recognition, natural language processing, recommendation systems, and predictive analytics. Overall, machine learning allows computers to adapt and provide insights based on data inputs, thus enhancing their functionality and efficiency.'}, {'role': 'user', 'content': 'Provide me one main difference of how it is different from Deep Learning. '}]\n"
     ]
    }
   ],
   "source": [
    "view = gr.ChatInterface(fn=chat)\n",
    "view.launch()"
   ]
  },
  {
   "cell_type": "code",
   "execution_count": null,
   "id": "668e2241",
   "metadata": {},
   "outputs": [],
   "source": []
  }
 ],
 "metadata": {
  "kernelspec": {
   "display_name": "Python 3",
   "language": "python",
   "name": "python3"
  },
  "language_info": {
   "codemirror_mode": {
    "name": "ipython",
    "version": 3
   },
   "file_extension": ".py",
   "mimetype": "text/x-python",
   "name": "python",
   "nbconvert_exporter": "python",
   "pygments_lexer": "ipython3",
   "version": "3.10.0"
  }
 },
 "nbformat": 4,
 "nbformat_minor": 5
}
