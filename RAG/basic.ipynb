{
 "cells": [
  {
   "cell_type": "code",
   "execution_count": null,
   "id": "ca335ab6",
   "metadata": {},
   "outputs": [],
   "source": [
    "import os\n",
    "from dotenv import load_dotenv\n",
    "from openai import OpenAI\n",
    "import gradio as gr\n",
    "import glob"
   ]
  },
  {
   "cell_type": "code",
   "execution_count": null,
   "id": "29e32987",
   "metadata": {},
   "outputs": [],
   "source": [
    "api_key = os.getenv(\"OPENAI_API\")\n",
    "if api_key and api_key[:3] == \"sk-\":\n",
    "    print(\"API Key is Set\")\n",
    "else:\n",
    "    print(\"Something Went wrong\")"
   ]
  },
  {
   "cell_type": "code",
   "execution_count": null,
   "id": "51738212",
   "metadata": {},
   "outputs": [],
   "source": [
    "MODEL = \"gpt-4o-mini\"\n",
    "openai = OpenAI(api_key = api_key)"
   ]
  },
  {
   "cell_type": "code",
   "execution_count": null,
   "id": "7fd449e0",
   "metadata": {},
   "outputs": [],
   "source": [
    "context = {}\n",
    "employees = glob.glob(\"knowledge-base/employees/*\")\n",
    "# print(employees)\n",
    "for employee in employees:\n",
    "    name = employee.split(' ')[-1][:-3]\n",
    "    doc = \"\"\n",
    "    with open(employee,\"r\") as f:\n",
    "        doc = f.read()\n",
    "    context[name]=doc"
   ]
  },
  {
   "cell_type": "code",
   "execution_count": null,
   "id": "0fcf0cb9",
   "metadata": {},
   "outputs": [],
   "source": [
    "len(context.keys())"
   ]
  },
  {
   "cell_type": "code",
   "execution_count": null,
   "id": "b6e17109",
   "metadata": {},
   "outputs": [],
   "source": [
    "products = glob.glob(\"knowledge-base/products/*\")\n",
    "for product in products:\n",
    "    name = product.split('\\\\')[-1][:-3]\n",
    "    doc = \"\"\n",
    "    with open(product,'r') as f:\n",
    "        doc = f.read()\n",
    "    context[name] = doc"
   ]
  },
  {
   "cell_type": "code",
   "execution_count": null,
   "id": "4024bce7",
   "metadata": {},
   "outputs": [],
   "source": [
    "context.keys()"
   ]
  },
  {
   "cell_type": "code",
   "execution_count": null,
   "id": "d981b110",
   "metadata": {},
   "outputs": [],
   "source": [
    "system_message = \\\n",
    "\"\"\"\n",
    "You are an expert in answering accurate questions about Insurellm, the Insurance Texh Company.\n",
    "Give brief, accurate answers. If you don't know the answer, say that I don't know.\n",
    "Do not make anything up if you haven't been provided with relevant context.\n",
    "\"\"\""
   ]
  },
  {
   "cell_type": "code",
   "execution_count": null,
   "id": "25848a8e",
   "metadata": {},
   "outputs": [],
   "source": [
    "def get_relevant_context(message):\n",
    "    relevant_context = []\n",
    "    for context_title,context_details in context.items():\n",
    "        if context_title in message:\n",
    "            relevant_context.append(context_details)\n",
    "    return relevant_context"
   ]
  },
  {
   "cell_type": "code",
   "execution_count": null,
   "id": "8415e3cc",
   "metadata": {},
   "outputs": [],
   "source": [
    "# print(get_relevant_context('Who is Avery Lancaster'))"
   ]
  },
  {
   "cell_type": "code",
   "execution_count": null,
   "id": "6e83c23f",
   "metadata": {},
   "outputs": [],
   "source": [
    "def add_context(message):\n",
    "    relevane_context = get_relevant_context(message=message)\n",
    "    if relevane_context:\n",
    "        message += \"\\n\\nThe following additional context might be relevant in answering this question:\\n\\n\"\n",
    "        for relevant in relevane_context:\n",
    "            message += relevant + \"\\n\\n\"\n",
    "    return message"
   ]
  },
  {
   "cell_type": "code",
   "execution_count": null,
   "id": "478614b8",
   "metadata": {},
   "outputs": [],
   "source": [
    "print(add_context(\"Who is Avery Lancaster and what is Carllm\"))"
   ]
  },
  {
   "cell_type": "code",
   "execution_count": null,
   "id": "588ea82d",
   "metadata": {},
   "outputs": [],
   "source": [
    "def chat(message,history):\n",
    "    conversation = [\n",
    "        {\"role\":\"system\",\"content\":system_message},\n",
    "    ]\n",
    "    for user_msg,assistant_msg in history:\n",
    "        conversation.append({\"role\":\"user\",\"content\":user_msg})\n",
    "        conversation.append({\"role\":\"assistant\",\"content\":assistant_msg})\n",
    "    message = add_context(message)\n",
    "    conversation.append({\"role\":\"user\",\"content\":message})\n",
    "    \n",
    "    stream = openai.chat.completions.create(\n",
    "        model=MODEL,\n",
    "        messages=conversation,\n",
    "        stream=True\n",
    "    )\n",
    "    response = \"\"\n",
    "    for chunk in stream:\n",
    "        response += chunk.choices[0].delta.content or ''\n",
    "        yield response"
   ]
  },
  {
   "cell_type": "code",
   "execution_count": null,
   "id": "a2fe3b86",
   "metadata": {},
   "outputs": [],
   "source": [
    "gr.ChatInterface(fn=chat).launch(inbrowser=True)"
   ]
  },
  {
   "cell_type": "code",
   "execution_count": null,
   "id": "eca81210",
   "metadata": {},
   "outputs": [],
   "source": [
    "get_relevant_context(\"Carllm\")"
   ]
  }
 ],
 "metadata": {
  "kernelspec": {
   "display_name": "Python 3",
   "language": "python",
   "name": "python3"
  },
  "language_info": {
   "codemirror_mode": {
    "name": "ipython",
    "version": 3
   },
   "file_extension": ".py",
   "mimetype": "text/x-python",
   "name": "python",
   "nbconvert_exporter": "python",
   "pygments_lexer": "ipython3",
   "version": "3.10.0"
  }
 },
 "nbformat": 4,
 "nbformat_minor": 5
}
