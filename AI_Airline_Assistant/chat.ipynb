{
 "cells": [
  {
   "cell_type": "code",
   "execution_count": null,
   "id": "ee0faa03",
   "metadata": {},
   "outputs": [],
   "source": [
    "import os\n",
    "from dotenv import load_dotenv\n",
    "from openai import OpenAI\n",
    "import gradio as gr\n",
    "import json"
   ]
  },
  {
   "cell_type": "code",
   "execution_count": null,
   "id": "d4f42779",
   "metadata": {},
   "outputs": [],
   "source": [
    "load_dotenv()\n",
    "api_key = os.getenv(\"OPENAI_API\")\n",
    "if api_key and api_key[:3] == \"sk-\":\n",
    "    print(\"API Key is SET\")\n",
    "else:\n",
    "    print(\"Something Went wrong\")"
   ]
  },
  {
   "cell_type": "code",
   "execution_count": null,
   "id": "e5030fe6",
   "metadata": {},
   "outputs": [],
   "source": [
    "openai = OpenAI(api_key=api_key)\n",
    "MODEL = \"gpt-4o-mini\""
   ]
  },
  {
   "cell_type": "code",
   "execution_count": null,
   "id": "b82499a1",
   "metadata": {},
   "outputs": [],
   "source": [
    "system_prompt = \\\n",
    "\"\"\"\n",
    "You are a helpful ai assistant for an Airline called AirAI.\n",
    "Give short, relevent and consice answers, no more than 1 sentence\n",
    "Always be accurate. If you don't know the answer, say I don't know.\n",
    "\n",
    "\"\"\""
   ]
  },
  {
   "cell_type": "code",
   "execution_count": null,
   "id": "59cdb71e",
   "metadata": {},
   "outputs": [],
   "source": [
    "ticket_prices = {\"hyderabad\":\"$15\",\"vijayawada\":\"$25\",\"delhi\":\"$10\",\"bengaluru\":\"$15\"}\n",
    "def get_ticket_price(destination_city):\n",
    "    print(f\"{destination_city}\")\n",
    "    city = destination_city.lower()\n",
    "    return ticket_prices.get(city,\"No Flights Avaliable\")"
   ]
  },
  {
   "cell_type": "markdown",
   "id": "327498e1",
   "metadata": {},
   "source": [
    "#### Tools"
   ]
  },
  {
   "cell_type": "code",
   "execution_count": null,
   "id": "dd8cff4d",
   "metadata": {},
   "outputs": [],
   "source": [
    "price_function = {\n",
    "    \"name\":\"get_ticket_price\",\n",
    "    \"description\": 'Get the price of the ticket to the destination city. Call this whenever you need to know the price of the ticket price, for example when a customer asks about how much is a ticket to the city',\n",
    "    \"parameters\":{\n",
    "        \"type\":\"object\",\n",
    "        \"properties\":{\n",
    "            \"destination_city\":{\n",
    "                \"type\":\"string\",\n",
    "                \"description\":\"The city that customer wants to travel to.\",\n",
    "            },\n",
    "        },\n",
    "        \"required\":[\"destination_city\"],\n",
    "        \"additionalProperties\":False,\n",
    "    }\n",
    "}"
   ]
  },
  {
   "cell_type": "code",
   "execution_count": null,
   "id": "39ab9b7f",
   "metadata": {},
   "outputs": [],
   "source": [
    "tools = [{\"type\":\"function\",\"function\":price_function}]"
   ]
  },
  {
   "cell_type": "code",
   "execution_count": null,
   "id": "21f59337",
   "metadata": {},
   "outputs": [],
   "source": [
    "def handle_tool_call(message):\n",
    "    tool_call = message.tool_calls[0]\n",
    "    arguments = json.loads(tool_call.function.arguments)\n",
    "    city = arguments.get(\"destination_city\")\n",
    "    price = get_ticket_price(city)\n",
    "    response = {\n",
    "        \"role\":\"tool\",\n",
    "        \"content\":json.dumps({\"destination_city\":city,\"price\":price}),\n",
    "        \"tool_call_id\": tool_call.id,\n",
    "    }\n",
    "    return response,city"
   ]
  },
  {
   "cell_type": "code",
   "execution_count": null,
   "id": "d14f6dac",
   "metadata": {},
   "outputs": [],
   "source": [
    "def chat2(message,history):\n",
    "    messages = [\n",
    "        {\"role\":\"system\",\"content\":system_prompt},\n",
    "    ]\n",
    "    for user_message,assistant_message in history:\n",
    "        messages.append({\"role\":\"user\",\"content\":user_message})\n",
    "        messages.append({\"role\":\"assistant\",\"content\":assistant_message})\n",
    "    messages.append({\"role\":\"user\",\"content\":message})\n",
    "    response = openai.chat.completions.create(\n",
    "        model = MODEL,\n",
    "        messages=messages,\n",
    "        tools=tools\n",
    "    )\n",
    "    if response.choices[0].finish_reason==\"tool_calls\":\n",
    "        message = response.choices[0].message\n",
    "        print(message)\n",
    "        print(\"===\"*20)\n",
    "        response,city = handle_tool_call(message)\n",
    "        print(\"Response: \",response)\n",
    "        messages.append(message)\n",
    "        messages.append(response)\n",
    "        print(messages)\n",
    "        \n",
    "        response = openai.chat.completions.create(\n",
    "            model=MODEL,\n",
    "            messages=messages\n",
    "        )\n",
    "        print(\"Messages: \",messages)\n",
    "    return response.choices[0].message.content\n",
    "        "
   ]
  },
  {
   "cell_type": "code",
   "execution_count": null,
   "id": "54ee208f",
   "metadata": {},
   "outputs": [],
   "source": [
    "gr.ChatInterface(fn=chat2).launch()"
   ]
  }
 ],
 "metadata": {
  "kernelspec": {
   "display_name": "Python 3",
   "language": "python",
   "name": "python3"
  },
  "language_info": {
   "codemirror_mode": {
    "name": "ipython",
    "version": 3
   },
   "file_extension": ".py",
   "mimetype": "text/x-python",
   "name": "python",
   "nbconvert_exporter": "python",
   "pygments_lexer": "ipython3",
   "version": "3.10.0"
  }
 },
 "nbformat": 4,
 "nbformat_minor": 5
}
