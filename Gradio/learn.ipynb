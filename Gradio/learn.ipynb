{
 "cells": [
  {
   "cell_type": "code",
   "execution_count": null,
   "id": "e1ce2564",
   "metadata": {},
   "outputs": [],
   "source": [
    "import os\n",
    "import gradio as gr\n",
    "import requests\n",
    "from typing import List\n",
    "from openai import OpenAI\n",
    "from dotenv import load_dotenv\n",
    "from bs4 import BeautifulSoup"
   ]
  },
  {
   "cell_type": "code",
   "execution_count": null,
   "id": "657c40a4",
   "metadata": {},
   "outputs": [],
   "source": [
    "load_dotenv()\n",
    "api_key = os.getenv(\"OPENAI_API\")\n",
    "if api_key and api_key[:8] == \"sk-proj-\":\n",
    "    print(\"API KEY IS READY\")\n",
    "else:\n",
    "    print(\"Something went wrong\")"
   ]
  },
  {
   "cell_type": "code",
   "execution_count": null,
   "id": "864447ca",
   "metadata": {},
   "outputs": [],
   "source": [
    "openai = OpenAI(api_key=api_key)\n",
    "MODEL = \"gpt-4o-mini\""
   ]
  },
  {
   "cell_type": "code",
   "execution_count": null,
   "id": "9bee8914",
   "metadata": {},
   "outputs": [],
   "source": [
    "system_prompt = \"\"\"\n",
    "You are a helpful assistant please answer to the user's query precisely.\n",
    "If you don't know the answer just say that I am not familiar with it.\n",
    "\"\"\""
   ]
  },
  {
   "cell_type": "code",
   "execution_count": null,
   "id": "25a8db39",
   "metadata": {},
   "outputs": [],
   "source": [
    "def message_gpt(prompt):\n",
    "    messages = [\n",
    "        {\"role\":\"system\",\"content\":system_prompt},\n",
    "        {\"role\":\"user\",\"content\":prompt}\n",
    "    ]\n",
    "    completion = openai.chat.completions.create(\n",
    "        model = MODEL,\n",
    "        messages=messages,\n",
    "    )\n",
    "    response = completion.choices[0].message.content\n",
    "    return response"
   ]
  },
  {
   "cell_type": "code",
   "execution_count": null,
   "id": "c173c890",
   "metadata": {},
   "outputs": [],
   "source": [
    "message_gpt(\"What is todays date\")"
   ]
  },
  {
   "cell_type": "code",
   "execution_count": null,
   "id": "c547dc44",
   "metadata": {},
   "outputs": [],
   "source": [
    "def UP_UP(text):\n",
    "    return text.upper()"
   ]
  },
  {
   "cell_type": "code",
   "execution_count": null,
   "id": "0e2aa73c",
   "metadata": {},
   "outputs": [],
   "source": [
    "gr.Interface(fn=UP_UP,inputs=\"textbox\",outputs=\"textbox\",allow_flagging=\"never\").launch()\n",
    "# gr.Interface(fn=UP_UP,inputs=\"textbox\",outputs=\"textbox\",allow_flagging=\"never\").launch(share=True)"
   ]
  },
  {
   "cell_type": "code",
   "execution_count": null,
   "id": "ef28072a",
   "metadata": {},
   "outputs": [],
   "source": [
    "view = gr.Interface(\n",
    "    fn=message_gpt,\n",
    "    inputs=gr.Textbox(label=\"Your Message\",lines=6),\n",
    "    outputs=gr.Textbox(label=\"Response\",lines=8),\n",
    "    allow_flagging=\"never\"\n",
    ")\n",
    "view.launch()"
   ]
  },
  {
   "cell_type": "code",
   "execution_count": null,
   "id": "3b6a382b",
   "metadata": {},
   "outputs": [],
   "source": [
    "view = gr.Interface(\n",
    "    fn=UP_UP,\n",
    "    inputs=gr.Textbox(label=\"Your Message\",lines=6),\n",
    "    outputs=gr.Markdown(label=\"Response\"),\n",
    "    allow_flagging=\"never\"\n",
    ")\n",
    "view.launch()"
   ]
  },
  {
   "cell_type": "code",
   "execution_count": null,
   "id": "526773ce",
   "metadata": {},
   "outputs": [],
   "source": [
    "def stream_output(prompt):\n",
    "    messages = [\n",
    "        {\"role\":\"system\",\"content\":system_prompt},\n",
    "        {\"role\":\"user\",\"content\":prompt}\n",
    "    ]\n",
    "    stream = openai.chat.completions.create(\n",
    "        model=MODEL,\n",
    "        messages=messages,\n",
    "        stream=True\n",
    "    )\n",
    "    result = \"\"\n",
    "    for chunk in stream:\n",
    "        result += chunk.choices[0].delta.content or \"\"\n",
    "        yield result"
   ]
  },
  {
   "cell_type": "code",
   "execution_count": null,
   "id": "07fb91e5",
   "metadata": {},
   "outputs": [],
   "source": [
    "view = gr.Interface(\n",
    "    fn=stream_output,\n",
    "    inputs=gr.Textbox(label=\"Your Message:\"),\n",
    "    outputs=gr.Markdown(label=\"Response\"),\n",
    "    allow_flagging=\"never\",\n",
    ")\n",
    "view.launch()"
   ]
  },
  {
   "cell_type": "code",
   "execution_count": null,
   "id": "1051b11f",
   "metadata": {},
   "outputs": [],
   "source": [
    "class Website:\n",
    "    def __init__(self,url):\n",
    "        self.url = url\n",
    "        response = requests.get(self.url)\n",
    "        self.body = response.content\n",
    "        soup = BeautifulSoup(self.body,\"html.parser\")\n",
    "        self.title = soup.title.string if soup.title else \"No title found\"\n",
    "        for irrelevant in soup.body([\"script\",\"style\",\"img\",\"input\"]):\n",
    "            irrelevant.decompose()\n",
    "        self.text = soup.body.get_text(separator='\\n',strip=True)\n",
    "    def get_contents(self):\n",
    "        return f\"Webpage Title: {self.title}\\nWebpage Contents:\\n{self.text}\\n\\n\""
   ]
  },
  {
   "cell_type": "code",
   "execution_count": null,
   "id": "7e4a8210",
   "metadata": {},
   "outputs": [],
   "source": [
    "system_prompt = \"You are an assitant that analyzes the contents of a company landing page \\\n",
    "and create a short brochure about the company for customers, investors and recruiters. Respond in Markdown\""
   ]
  },
  {
   "cell_type": "code",
   "execution_count": null,
   "id": "6edaa3ec",
   "metadata": {},
   "outputs": [],
   "source": [
    "def stream_brochure(title,url):\n",
    "    prompt = f\"Please provide a company brochure for {title}, here is their landing page:\\n{Website(url).get_contents()}\"\n",
    "    result = stream_output(prompt=prompt)\n",
    "    for chunk in result:\n",
    "        yield chunk"
   ]
  },
  {
   "cell_type": "code",
   "execution_count": null,
   "id": "834edcb9",
   "metadata": {},
   "outputs": [],
   "source": [
    "# stream_brochure(\"Anthropic\",\"https://anthropic.com\")"
   ]
  },
  {
   "cell_type": "code",
   "execution_count": null,
   "id": "1be9d434",
   "metadata": {},
   "outputs": [],
   "source": [
    "view = gr.Interface(\n",
    "    fn=stream_brochure,\n",
    "    inputs= [gr.Textbox(label=\"Company name: \"),\n",
    "             gr.Textbox(label=\"Landing Page URL: \"),\n",
    "             ],\n",
    "    outputs=gr.Markdown(label=\"Brochure:\"),\n",
    "    allow_flagging=\"never\",\n",
    ")\n",
    "view.launch()"
   ]
  }
 ],
 "metadata": {
  "kernelspec": {
   "display_name": "Python 3",
   "language": "python",
   "name": "python3"
  },
  "language_info": {
   "codemirror_mode": {
    "name": "ipython",
    "version": 3
   },
   "file_extension": ".py",
   "mimetype": "text/x-python",
   "name": "python",
   "nbconvert_exporter": "python",
   "pygments_lexer": "ipython3",
   "version": "3.10.0"
  }
 },
 "nbformat": 4,
 "nbformat_minor": 5
}
